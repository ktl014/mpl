{
 "cells": [
  {
   "cell_type": "code",
   "execution_count": 2,
   "metadata": {
    "collapsed": false
   },
   "outputs": [
    {
     "name": "stderr",
     "output_type": "stream",
     "text": [
      "/data4/plankton_wi17/mpl/python/local/lib/python2.7/site-packages/sklearn/cross_validation.py:41: DeprecationWarning: This module was deprecated in version 0.18 in favor of the model_selection module into which all the refactored classes and functions are moved. Also note that the interface of the new CV iterators are different from that of this module. This module will be removed in 0.20.\n",
      "  \"This module will be removed in 0.20.\", DeprecationWarning)\n",
      "/data4/plankton_wi17/mpl/python/local/lib/python2.7/site-packages/sklearn/grid_search.py:42: DeprecationWarning: This module was deprecated in version 0.18 in favor of the model_selection module into which all the refactored classes and functions are moved. This module will be removed in 0.20.\n",
      "  DeprecationWarning)\n",
      "/usr/local/lib/python2.7/dist-packages/pandas/io/excel.py:626: UserWarning: Installed openpyxl is not supported at this time. Use >=1.6.1 and <2.0.0.\n",
      "  .format(openpyxl_compat.start_ver, openpyxl_compat.stop_ver))\n"
     ]
    }
   ],
   "source": [
    "import matplotlib\n",
    "matplotlib.use('Agg')\n",
    "%matplotlib inline\n",
    "# Load scikit's random forest classifier library\n",
    "from sklearn.ensemble import RandomForestClassifier\n",
    "from sklearn import cross_validation\n",
    "from sklearn.model_selection import KFold, cross_val_score, RandomizedSearchCV\n",
    "from sklearn.grid_search import GridSearchCV\n",
    "from sklearn.feature_selection import SelectFromModel\n",
    "\n",
    "# Load pandas\n",
    "import pandas as pd\n",
    "\n",
    "# Load numpy\n",
    "import numpy as np\n",
    "\n",
    "# Load feature extraction module\n",
    "from spc_extractFeatures import *\n",
    "\n",
    "# Load glob, os, random\n",
    "import glob\n",
    "import os\n",
    "import random\n",
    "import caffe\n",
    "import pickle\n",
    "DEBUG = False\n",
    "import matplotlib.pyplot as plt\n",
    "import itertools\n",
    "import joblib\n",
    "import csv\n",
    "import timeit"
   ]
  },
  {
   "cell_type": "code",
   "execution_count": 3,
   "metadata": {
    "collapsed": true
   },
   "outputs": [],
   "source": [
    "def train_testSplit(domain, srcPath):\n",
    "    assert isinstance(domain, str) # options limited to spcbench, spcinsitu, spcombo\n",
    "    trainPartition = 0.70\n",
    "    train_fns = []; train_lbls = []\n",
    "    print domain + ' selected'\n",
    "    if domain == 'spcbench':\n",
    "        destPath = '/data4/plankton_wi17/mpl/source_domain/spcbench/bench_ensemble'\n",
    "        train_fns, train_lbls = getFnsAndLbls(srcPath + '/train.txt', Target=False)\n",
    "        val_fns, val_lbls = getFnsAndLbls(srcPath + '/val.txt', Target=False)\n",
    "    elif domain == 'spcinsitu':\n",
    "        destPath = '/data4/plankton_wi17/mpl/source_domain/spcinsitu/insitu_ensemble'\n",
    "        train_fns, train_lbls = getFnsAndLbls(srcPath + '/train.txt', Target=False)\n",
    "        val_fns, val_lbls = getFnsAndLbls(srcPath + '/val.txt', Target=False)\n",
    "    elif domain == 'spcombo':\n",
    "        destPath = '/data4/plankton_wi17/mpl/source_domain/spcombo/combo_ensemble'\n",
    "        train_fns, train_lbls = getFnsAndLbls(srcPath + '/train.txt', Target=False)\n",
    "        val_fns, val_lbls = getFnsAndLbls (srcPath + '/val.txt', Target=False)\n",
    "\n",
    "    testFile = '/data4/plankton_wi17/mpl/target_domain/aspect_target_image_path_labels.txt'\n",
    "    test_fns, test_lbls = getFnsAndLbls(testFile, Target=True)\n",
    "\n",
    "    train_fns, train_lbls = randomize_writepaths(train_fns, train_lbls, 'train', destPath)\n",
    "    val_fns, val_lbls = randomize_writepaths (val_fns, val_lbls, 'val', destPath)\n",
    "    test_fns, test_lbls = randomize_writepaths(test_fns, test_lbls, 'test', destPath)\n",
    "    \n",
    "    train = {'imgs': train_fns, 'lbls': train_lbls}\n",
    "    val = {'imgs': val_fns, 'lbls': val_lbls}\n",
    "    test = {'imgs': test_fns, 'lbls': test_lbls}\n",
    "    return train, val, test\n",
    "\n",
    "def getFnsAndLbls(textFile, Target=True):\n",
    "    try:\n",
    "        if Target:\n",
    "            df = pd.read_csv(textFile, delimiter=';', names=['img','id', 'lbl'])\n",
    "        else:\n",
    "            df = pd.read_csv(textFile, delimiter=' ', names=['img', 'lbl'])\n",
    "    except:\n",
    "        print \"Check text file formatting\"\n",
    "    test_fns = df['img'].tolist()\n",
    "    test_lbls = np.array(df['lbl'].tolist())\n",
    "    return test_fns, test_lbls\n",
    "\n",
    "def randomize_writepaths(fns, lbs, key, dest_path):\n",
    "    '''\n",
    "    Randomize images and labels\n",
    "    :param fns: list of file names\n",
    "    :param lbs: list of labels\n",
    "    :param key: str like train, val, or text\n",
    "    :param dest_path: path to write text file of all files and labels randomized\n",
    "    :return: shuffled files and labels\n",
    "    '''\n",
    "\n",
    "    # Shuffle fns and labels\n",
    "    index = range (len (fns))\n",
    "    random.shuffle (index)\n",
    "    fns = [fns[i] for i in index]\n",
    "    lbs = np.array ([lbs[i] for i in index])\n",
    "\n",
    "    # Write img and labels to text file\n",
    "    with open (dest_path + '/{}.txt'.format (key), \"w\") as f:\n",
    "        for i in range (len (fns)):\n",
    "            f.write (str (fns[i]) + ' ' + str (lbs[i]) + '\\n')\n",
    "    f.close ()\n",
    "    return fns, lbs\n",
    "\n",
    "def extractFeature(imgList, featureName):\n",
    "    st = timeit.default_timer()\n",
    "    if not os.path.exists(featureName):\n",
    "        print \"Extracting Features for {} \\n\".format(featureName)\n",
    "        numFeatures = 72\n",
    "        featureVector = np.zeros([len(imgList), numFeatures])\n",
    "        for i, imgname in enumerate(imgList):\n",
    "            img = caffe.io.load_image (imgname)\n",
    "            img = caffe.io.resize_image(img, [256,256])\n",
    "            img = (img * 255).astype (np.uint8)\n",
    "            featureVector[i,:] = extractFeatures(img)\n",
    "            if i%100 == 0:\n",
    "                #print i,'/',len(imgList),'remaining ETA:',(timeit.default_timer() - st) / ()\n",
    "                print '%d remaining, ETA: %f' %(len(imgList) - i, (timeit.default_timer() - st)/(i+1) * (len(imgList) - i))\n",
    "        joblib.dump(featureVector, featureName)\n",
    "    else:\n",
    "        featureVector = joblib.load(featureName)\n",
    "    print featureName + ' loaded \\n'\n",
    "    return featureVector"
   ]
  },
  {
   "cell_type": "markdown",
   "metadata": {},
   "source": [
    "# Set up datasets\n",
    "\n",
    "Split data into training, validation, & test"
   ]
  },
  {
   "cell_type": "code",
   "execution_count": 10,
   "metadata": {
    "collapsed": false
   },
   "outputs": [
    {
     "name": "stdout",
     "output_type": "stream",
     "text": [
      "spcinsitu selected\n",
      "test\n",
      "[[    0  2720]\n",
      " [    1 23049]]\n",
      "train\n",
      "[[   0 1649]\n",
      " [   1 2382]]\n",
      "val\n",
      "[[  0 235]\n",
      " [  1 341]]\n"
     ]
    }
   ],
   "source": [
    "t1 = timeit.default_timer()\n",
    "EXP_NUM = 'exp1'\n",
    "idx = 1\n",
    "DOMAIN = ['spcbench',\n",
    "          'spcinsitu',\n",
    "          'spcombo']\n",
    "CLASSIFIER_NAME = '{}_ensemble'.format(DOMAIN[idx].strip('spc'))\n",
    "SRCPATH = [#'/data4/plankton_wi17/mpl/source_domain/spcombo/combo_images_exp',\n",
    "           '/data4/plankton_wi17/mpl/source_domain/spcbench/bench_finetune/code',\n",
    "           '/data4/plankton_wi17/mpl/source_domain/spcinsitu/insitu_finetune/code',\n",
    "           '/data4/plankton_wi17/mpl/source_domain/spcombo/combo_finetune/all-noise100/all-noise100_100-100/code']\n",
    "\n",
    "train, val, test = train_testSplit(DOMAIN[idx], SRCPATH[idx])\n",
    "# verifylbl = np.asarray(zip(train['imgs'][:2],train['lbls'][:2]))\n",
    "datasets = {'train':train, 'val':val, 'test':test}\n",
    "for key,i in datasets.iteritems():\n",
    "    print key\n",
    "    unique, counts = np.unique(i['lbls'], return_counts=True)\n",
    "    print(np.asarray(zip(unique,counts)))"
   ]
  },
  {
   "cell_type": "code",
   "execution_count": null,
   "metadata": {
    "collapsed": false
   },
   "outputs": [
    {
     "name": "stdout",
     "output_type": "stream",
     "text": [
      "Extracting Features for imgFeatures/spcinsitu_trainFeatures \n",
      "\n"
     ]
    },
    {
     "name": "stderr",
     "output_type": "stream",
     "text": [
      "/data4/plankton_wi17/mpl/python/lib/python2.7/scikit-image/skimage/transform/_warps.py:105: UserWarning: The default mode, 'constant', will be changed to 'reflect' in skimage 0.15.\n",
      "  warn(\"The default mode, 'constant', will be changed to 'reflect' in \"\n",
      "/data4/plankton_wi17/mpl/python/lib/python2.7/scikit-image/skimage/transform/_warps.py:110: UserWarning: Anti-aliasing will be enabled by default in skimage 0.15 to avoid aliasing artifacts when down-sampling images.\n",
      "  warn(\"Anti-aliasing will be enabled by default in skimage 0.15 to \"\n",
      "/data4/plankton_wi17/mpl/python/lib/python2.7/scikit-image/skimage/measure/_regionprops.py:250: UserWarning: regionprops and image moments (including moments, normalized moments, central moments, and inertia tensor) of 2D images will change from xy coordinates to rc coordinates in version 0.16.\n",
      "See http://scikit-image.org/docs/0.14.x/release_notes_and_installation.html#deprecations for details on how to avoid this message.\n",
      "  warn(XY_TO_RC_DEPRECATION_MESSAGE)\n",
      "/data4/plankton_wi17/mpl/python/lib/python2.7/scikit-image/skimage/measure/_regionprops.py:260: UserWarning: regionprops and image moments (including moments, normalized moments, central moments, and inertia tensor) of 2D images will change from xy coordinates to rc coordinates in version 0.16.\n",
      "See http://scikit-image.org/docs/0.14.x/release_notes_and_installation.html#deprecations for details on how to avoid this message.\n",
      "  warn(XY_TO_RC_DEPRECATION_MESSAGE)\n"
     ]
    },
    {
     "name": "stdout",
     "output_type": "stream",
     "text": [
      "0 / 4031\n",
      "100 / 4031\n",
      "200 / 4031\n",
      "300 / 4031\n",
      "400 / 4031\n",
      "500 / 4031\n",
      "600 / 4031\n",
      "700 / 4031\n",
      "800 / 4031\n",
      "900 / 4031\n",
      "1000 / 4031\n",
      "1100 / 4031\n",
      "1200 / 4031\n",
      "1300 / 4031\n",
      "1400 / 4031\n",
      "1500 / 4031\n",
      "1600 / 4031\n",
      "1700 / 4031\n",
      "1800 / 4031\n",
      "1900 / 4031\n",
      "2000 / 4031\n",
      "2100 / 4031\n",
      "2200 / 4031\n",
      "2300 / 4031\n",
      "2400 / 4031\n",
      "2500 / 4031\n"
     ]
    }
   ],
   "source": [
    "trainFeatures = extractFeature(train['imgs'], 'imgFeatures/{}_trainFeatures'.format(DOMAIN[idx]))\n",
    "valFeatures = extractFeature (val['imgs'], 'imgFeatures/{}_valFeatures'.format (DOMAIN[idx]))\n",
    "testFeatures = extractFeature(test['imgs'], 'imgFeatures/targetFeatures')"
   ]
  },
  {
   "cell_type": "code",
   "execution_count": 8,
   "metadata": {
    "collapsed": false
   },
   "outputs": [
    {
     "data": {
      "text/plain": [
       "RandomForestClassifier(bootstrap=True, class_weight=None, criterion='gini',\n",
       "            max_depth=None, max_features='auto', max_leaf_nodes=None,\n",
       "            min_impurity_decrease=0.0, min_impurity_split=None,\n",
       "            min_samples_leaf=1, min_samples_split=2,\n",
       "            min_weight_fraction_leaf=0.0, n_estimators=10, n_jobs=-1,\n",
       "            oob_score=False, random_state=0, verbose=0, warm_start=False)"
      ]
     },
     "execution_count": 8,
     "metadata": {},
     "output_type": "execute_result"
    }
   ],
   "source": [
    "#clf1 = RandomForestClassifier (n_estimators=400, min_samples_split=45, max_features=15,\n",
    "#                               max_depth=50,random_state=0, oob_score=True, n_jobs=-1)\n",
    "#clf1 = RandomForestClassifier (n_estimators=301, max_depth=7, max_features=19, random_state=0, n_jobs=-1)\n",
    "#clf1 = RandomForestClassifier (n_estimators=400, max_depth=10, max_features='sqrt', random_state=0, n_jobs=-1)  # exp2 1-29-18 \n",
    "clf1 = RandomForestClassifier (random_state=0, n_jobs=-1)\n",
    "\n",
    "clf1.fit (trainFeatures, train['lbls'])"
   ]
  },
  {
   "cell_type": "code",
   "execution_count": 9,
   "metadata": {
    "collapsed": false
   },
   "outputs": [
    {
     "name": "stdout",
     "output_type": "stream",
     "text": [
      "                   Predicted Copepods  Predicted Non-Copepods\n",
      "True Copepods                 44.2553                 55.7447\n",
      "True Non-Copepods             40.4692                 59.5308\n",
      "Accuracy: 53.2986111111, Error: 46.7013888889\n",
      "Normalized Accuracy: 51.89305, Normalized Error: 48.10695\n"
     ]
    }
   ],
   "source": [
    "preds = clf1.predict(valFeatures)\n",
    "gtruth = np.array(val['lbls'])\n",
    "totalAccu = np.equal(preds,gtruth).mean()*100\n",
    "errorRate = (preds != gtruth).mean() * 100\n",
    "num_class = 2\n",
    "# Create array for confusion matrix with dimensions based on number of classes\n",
    "confusion_matrix_rawcount = np.zeros ((num_class, num_class))\n",
    "class_count = np.zeros((num_class,1)) # 1st col represents number of images per class\n",
    "\n",
    "# Create confusion matrix\n",
    "predClass = ['Predicted Copepods', 'Predicted Non-Copepods']\n",
    "trueClass = ['True Copepods', 'True Non-Copepods']\n",
    "for t, p in zip (gtruth, preds):\n",
    "    class_count[t,0] += 1\n",
    "    confusion_matrix_rawcount[t, p] += 1\n",
    "df_rawcount = pd.DataFrame(confusion_matrix_rawcount, columns=predClass, index=trueClass)\n",
    "confusion_matrix_rate = np.zeros((num_class,num_class))\n",
    "for i in range(num_class):\n",
    "    confusion_matrix_rate[i,:] = (confusion_matrix_rawcount[i,:])/class_count[i,0]*100\n",
    "confusion_matrix_rate = np.around(confusion_matrix_rate, decimals=4)\n",
    "df_rate = pd.DataFrame(confusion_matrix_rate, columns=predClass, index=trueClass)\n",
    "print df_rate\n",
    "\n",
    "# Normalized Accuracy\n",
    "normAccu = (confusion_matrix_rate[0,0]+confusion_matrix_rate[1,1])/2.00\n",
    "#print(\"Normalized Accuracy: {}\".format(normAccu))\n",
    "\n",
    "# Normalized Error Rate\n",
    "normError = 100.00 - normAccu\n",
    "\n",
    "print(\"Accuracy: {}, Error: {}\".format(totalAccu,errorRate))\n",
    "print(\"Normalized Accuracy: {}, Normalized Error: {}\".format(normAccu,normError))"
   ]
  },
  {
   "cell_type": "markdown",
   "metadata": {},
   "source": [
    "Save model for future use"
   ]
  },
  {
   "cell_type": "code",
   "execution_count": null,
   "metadata": {
    "collapsed": true
   },
   "outputs": [],
   "source": []
  },
  {
   "cell_type": "markdown",
   "metadata": {},
   "source": [
    "# Cross Validation"
   ]
  },
  {
   "cell_type": "markdown",
   "metadata": {},
   "source": [
    "RandomizedSearchCV"
   ]
  },
  {
   "cell_type": "code",
   "execution_count": null,
   "metadata": {
    "collapsed": false
   },
   "outputs": [
    {
     "name": "stdout",
     "output_type": "stream",
     "text": [
      "Fitting 5 folds for each of 27216 candidates, totalling 136080 fits\n"
     ]
    },
    {
     "name": "stderr",
     "output_type": "stream",
     "text": [
      "[Parallel(n_jobs=-1)]: Done   2 tasks      | elapsed:    0.2s\n",
      "[Parallel(n_jobs=-1)]: Done 184 tasks      | elapsed:   27.3s\n"
     ]
    }
   ],
   "source": [
    "train_x = trainFeatures; train_y = train['lbls']\n",
    "\n",
    "clf = RandomForestClassifier (n_jobs=-1, random_state=0)\n",
    "param_grid = {\n",
    "    \"n_estimators\": list(range(1,601,100)),\n",
    "    \"max_depth\": [None] + list(range(5,25,1)),\n",
    "    \"max_features\":list(range(1,train_x.shape[1],2)),\n",
    "    \"min_samples_split\":[2, 5, 10, 20, 50, 70]}\n",
    "#CV_rfc = RandomizedSearchCV(clf, param_grid, cv=10, verbose=1, n_jobs=-1, random_state=0)\n",
    "CV_rfc = GridSearchCV(clf, param_grid, cv=5, verbose=1, n_jobs=-1)\n",
    "CV_rfc.fit(train_x, train_y)\n",
    "\n",
    "print \"Tuned Decision Tree Parameters: {}\".format(CV_rfc.best_params_)\n",
    "print \"Best score is {}\".format(CV_rfc.best_score_)"
   ]
  },
  {
   "cell_type": "markdown",
   "metadata": {},
   "source": [
    "Hyperparameter Tuning"
   ]
  },
  {
   "cell_type": "code",
   "execution_count": 50,
   "metadata": {
    "collapsed": false
   },
   "outputs": [
    {
     "name": "stdout",
     "output_type": "stream",
     "text": [
      "[5, 10, 15, 20, 25, 30, 35, 40, 45, 50, 55, 60, 65, 70, 75, 80, 85, 90, 95]\n",
      "Number of values to test: 19\n"
     ]
    }
   ],
   "source": [
    "alpha_estimator = list(range(1,601,100))\n",
    "alpha_depth = [None] + list(range(5,25,1))\n",
    "alpha_minsample = filter (lambda x: x % 5 == 0, list (range (5, 100)))\n",
    "alpha_minsampleleaf = filter (lambda x: x % 10 == 0, list (range (5, 100)))\n",
    "alpha_maxfeatures = list(range(1,trainFeatures.shape[1],7))\n",
    "print alpha_minsample\n",
    "print \"Number of values to test: %s\" %len(alpha_minsample)\n",
    "\n",
    "seed = 0\n",
    "cv_clf = RandomForestClassifier (n_estimators=301, max_features=19, random_state=seed, n_jobs=-1)"
   ]
  },
  {
   "cell_type": "code",
   "execution_count": 47,
   "metadata": {
    "collapsed": false
   },
   "outputs": [
    {
     "name": "stdout",
     "output_type": "stream",
     "text": [
      "Searching for optimal parameter\n"
     ]
    },
    {
     "name": "stderr",
     "output_type": "stream",
     "text": [
      "[Parallel(n_jobs=-1)]: Done   5 out of   5 | elapsed:    7.1s finished\n"
     ]
    },
    {
     "name": "stdout",
     "output_type": "stream",
     "text": [
      "Time: 10.7833180428, Iteration: 0, Value: 5\n"
     ]
    },
    {
     "name": "stderr",
     "output_type": "stream",
     "text": [
      "[Parallel(n_jobs=-1)]: Done   5 out of   5 | elapsed:    7.1s finished\n"
     ]
    },
    {
     "name": "stdout",
     "output_type": "stream",
     "text": [
      "Time: 21.2003121376, Iteration: 1, Value: 10\n"
     ]
    },
    {
     "name": "stderr",
     "output_type": "stream",
     "text": [
      "[Parallel(n_jobs=-1)]: Done   5 out of   5 | elapsed:    7.1s finished\n"
     ]
    },
    {
     "name": "stdout",
     "output_type": "stream",
     "text": [
      "Time: 31.6396660805, Iteration: 2, Value: 15\n"
     ]
    },
    {
     "name": "stderr",
     "output_type": "stream",
     "text": [
      "[Parallel(n_jobs=-1)]: Done   5 out of   5 | elapsed:    6.9s finished\n"
     ]
    },
    {
     "name": "stdout",
     "output_type": "stream",
     "text": [
      "Time: 42.0506510735, Iteration: 3, Value: 20\n"
     ]
    },
    {
     "name": "stderr",
     "output_type": "stream",
     "text": [
      "[Parallel(n_jobs=-1)]: Done   5 out of   5 | elapsed:    6.8s finished\n"
     ]
    },
    {
     "name": "stdout",
     "output_type": "stream",
     "text": [
      "Time: 52.0628430843, Iteration: 4, Value: 25\n"
     ]
    },
    {
     "name": "stderr",
     "output_type": "stream",
     "text": [
      "[Parallel(n_jobs=-1)]: Done   5 out of   5 | elapsed:    6.7s finished\n"
     ]
    },
    {
     "name": "stdout",
     "output_type": "stream",
     "text": [
      "Time: 62.0290899277, Iteration: 5, Value: 30\n"
     ]
    },
    {
     "name": "stderr",
     "output_type": "stream",
     "text": [
      "[Parallel(n_jobs=-1)]: Done   5 out of   5 | elapsed:    6.5s finished\n"
     ]
    },
    {
     "name": "stdout",
     "output_type": "stream",
     "text": [
      "Time: 71.8555440903, Iteration: 6, Value: 35\n"
     ]
    },
    {
     "name": "stderr",
     "output_type": "stream",
     "text": [
      "[Parallel(n_jobs=-1)]: Done   5 out of   5 | elapsed:    6.4s finished\n"
     ]
    },
    {
     "name": "stdout",
     "output_type": "stream",
     "text": [
      "Time: 81.3979129791, Iteration: 7, Value: 40\n"
     ]
    },
    {
     "name": "stderr",
     "output_type": "stream",
     "text": [
      "[Parallel(n_jobs=-1)]: Done   5 out of   5 | elapsed:    6.4s finished\n"
     ]
    },
    {
     "name": "stdout",
     "output_type": "stream",
     "text": [
      "Time: 90.7595450878, Iteration: 8, Value: 45\n"
     ]
    },
    {
     "name": "stderr",
     "output_type": "stream",
     "text": [
      "[Parallel(n_jobs=-1)]: Done   5 out of   5 | elapsed:    6.3s finished\n"
     ]
    },
    {
     "name": "stdout",
     "output_type": "stream",
     "text": [
      "Time: 100.116174936, Iteration: 9, Value: 50\n"
     ]
    },
    {
     "name": "stderr",
     "output_type": "stream",
     "text": [
      "[Parallel(n_jobs=-1)]: Done   5 out of   5 | elapsed:    6.1s finished\n"
     ]
    },
    {
     "name": "stdout",
     "output_type": "stream",
     "text": [
      "Time: 109.435089111, Iteration: 10, Value: 55\n"
     ]
    },
    {
     "name": "stderr",
     "output_type": "stream",
     "text": [
      "[Parallel(n_jobs=-1)]: Done   5 out of   5 | elapsed:    6.1s finished\n"
     ]
    },
    {
     "name": "stdout",
     "output_type": "stream",
     "text": [
      "Time: 118.520215034, Iteration: 11, Value: 60\n"
     ]
    },
    {
     "name": "stderr",
     "output_type": "stream",
     "text": [
      "[Parallel(n_jobs=-1)]: Done   5 out of   5 | elapsed:    6.1s finished\n"
     ]
    },
    {
     "name": "stdout",
     "output_type": "stream",
     "text": [
      "Time: 127.672435999, Iteration: 12, Value: 65\n"
     ]
    },
    {
     "name": "stderr",
     "output_type": "stream",
     "text": [
      "[Parallel(n_jobs=-1)]: Done   5 out of   5 | elapsed:    6.0s finished\n"
     ]
    },
    {
     "name": "stdout",
     "output_type": "stream",
     "text": [
      "Time: 136.598343134, Iteration: 13, Value: 70\n"
     ]
    },
    {
     "name": "stderr",
     "output_type": "stream",
     "text": [
      "[Parallel(n_jobs=-1)]: Done   5 out of   5 | elapsed:    6.0s finished\n"
     ]
    },
    {
     "name": "stdout",
     "output_type": "stream",
     "text": [
      "Time: 145.52204895, Iteration: 14, Value: 75\n"
     ]
    },
    {
     "name": "stderr",
     "output_type": "stream",
     "text": [
      "[Parallel(n_jobs=-1)]: Done   5 out of   5 | elapsed:    5.9s finished\n"
     ]
    },
    {
     "name": "stdout",
     "output_type": "stream",
     "text": [
      "Time: 154.367794037, Iteration: 15, Value: 80\n"
     ]
    },
    {
     "name": "stderr",
     "output_type": "stream",
     "text": [
      "[Parallel(n_jobs=-1)]: Done   5 out of   5 | elapsed:    5.8s finished\n"
     ]
    },
    {
     "name": "stdout",
     "output_type": "stream",
     "text": [
      "Time: 163.304510117, Iteration: 16, Value: 85\n"
     ]
    },
    {
     "name": "stderr",
     "output_type": "stream",
     "text": [
      "[Parallel(n_jobs=-1)]: Done   5 out of   5 | elapsed:    5.8s finished\n"
     ]
    },
    {
     "name": "stdout",
     "output_type": "stream",
     "text": [
      "Time: 171.979628086, Iteration: 17, Value: 90\n"
     ]
    },
    {
     "name": "stderr",
     "output_type": "stream",
     "text": [
      "[Parallel(n_jobs=-1)]: Done   5 out of   5 | elapsed:    5.8s finished\n"
     ]
    },
    {
     "name": "stdout",
     "output_type": "stream",
     "text": [
      "Time: 180.837058067, Iteration: 18, Value: 95\n"
     ]
    }
   ],
   "source": [
    "hyperparams = alpha_minsample\n",
    "t1 = timeit.default_timer()\n",
    "train_results = []\n",
    "test_results = []\n",
    "print \"Searching for optimal parameter\"\n",
    "for i in hyperparams:\n",
    "    cv_clf.set_params(min_samples_split=i)\n",
    "\n",
    "    #kfold = KFold(n_splits=10, random_state=seed)\n",
    "    scores = cross_val_score(cv_clf, trainFeatures, train['lbls'], cv=5, scoring='accuracy', n_jobs=-1, verbose=1)\n",
    "    train_results.append((scores.mean()*100))\n",
    "    \n",
    "    cv_clf.fit(trainFeatures, train['lbls'])\n",
    "    test_results.append(cv_clf.score(valFeatures,val['lbls']).mean()*100)\n",
    "    t2 =timeit.default_timer()\n",
    "    print \"Time: {}, Iteration: {}, Value: {}\".format (t2 - t1, hyperparams.index(i), i)"
   ]
  },
  {
   "cell_type": "code",
   "execution_count": 52,
   "metadata": {
    "collapsed": false
   },
   "outputs": [
    {
     "name": "stdout",
     "output_type": "stream",
     "text": [
      "The optimal number is 90 with 57.3%\n",
      "The optimal number is 95 with 59.9%\n"
     ]
    },
    {
     "data": {
      "text/plain": [
       "<matplotlib.text.Text at 0x7fed58496b90>"
      ]
     },
     "execution_count": 52,
     "metadata": {},
     "output_type": "execute_result"
    },
    {
     "data": {
      "image/png": "[encoded data removed]",
      "text/plain": [
       "<matplotlib.figure.Figure at 0x7fed5832ac90>"
      ]
     },
     "metadata": {},
     "output_type": "display_data"
    }
   ],
   "source": [
    "optimal_trainn = hyperparams[train_results.index(max(train_results))]\n",
    "optimal_testn = hyperparams[test_results.index(max(test_results))]\n",
    "print \"The optimal number is %d with %0.1f%%\" %(optimal_trainn,max(train_results))\n",
    "print \"The optimal number is %d with %0.1f%%\" %(optimal_testn,max(test_results))\n",
    "\n",
    "plt.plot(hyperparams, train_results)\n",
    "plt.plot(hyperparams, test_results, 'orange')\n",
    "#plt.plot(hyperparams, train_results, hyperparams, test_results)\n",
    "plt.xlabel('Number of Features')\n",
    "plt.ylabel('Train Accuracy')\n",
    "plt.title('Accuracy vs {}'.format('Minimum Sample Split'))"
   ]
  },
  {
   "cell_type": "markdown",
   "metadata": {},
   "source": [
    "# Determine feature importance\n"
   ]
  },
  {
   "cell_type": "code",
   "execution_count": 62,
   "metadata": {
    "collapsed": false
   },
   "outputs": [
    {
     "name": "stdout",
     "output_type": "stream",
     "text": [
      "[69 61 55 70  7 50 71 51 57 47 18  5 21 22 68 58 27 54 11  3 44 53  0 20 64\n",
      "  1 10 12 29 19  8  2 63 52 65 35 46 45 56 48 23 41 49 14 34 66 62 42 26 60\n",
      " 25 59 28  6 67 43 40 33 24 32 37 38 13 30 16 36 31 39  9 15  4 17]\n"
     ]
    }
   ],
   "source": [
    "importances = clf1.feature_importances_\n",
    "std = np.std([tree.feature_importances_ for tree in clf1.estimators_], axis=0)\n",
    "indices = np.argsort(importances)[::-1]\n",
    "print indices"
   ]
  },
  {
   "cell_type": "code",
   "execution_count": 63,
   "metadata": {
    "collapsed": false
   },
   "outputs": [
    {
     "name": "stdout",
     "output_type": "stream",
     "text": [
      "Feature Ranking:\n",
      "1. feature 69 {0.027023}\n",
      "2. feature 61 {0.023410}\n",
      "3. feature 55 {0.020849}\n",
      "4. feature 70 {0.020732}\n",
      "5. feature 7 {0.020286}\n",
      "6. feature 50 {0.019699}\n",
      "7. feature 71 {0.019624}\n",
      "8. feature 51 {0.019295}\n",
      "9. feature 57 {0.018758}\n",
      "10. feature 47 {0.018690}\n",
      "11. feature 18 {0.018419}\n",
      "12. feature 5 {0.018130}\n",
      "13. feature 21 {0.018049}\n",
      "14. feature 22 {0.017612}\n",
      "15. feature 68 {0.017388}\n",
      "16. feature 58 {0.017282}\n",
      "17. feature 27 {0.017143}\n",
      "18. feature 54 {0.016921}\n",
      "19. feature 11 {0.016857}\n",
      "20. feature 3 {0.016610}\n",
      "21. feature 44 {0.016605}\n",
      "22. feature 53 {0.016402}\n",
      "23. feature 0 {0.016181}\n",
      "24. feature 20 {0.016076}\n",
      "25. feature 64 {0.015928}\n",
      "26. feature 1 {0.015596}\n",
      "27. feature 10 {0.015137}\n",
      "28. feature 12 {0.015133}\n",
      "29. feature 29 {0.015088}\n",
      "30. feature 19 {0.015029}\n",
      "31. feature 8 {0.014877}\n",
      "32. feature 2 {0.014649}\n",
      "33. feature 63 {0.014638}\n",
      "34. feature 52 {0.014482}\n",
      "35. feature 65 {0.014436}\n",
      "36. feature 35 {0.014426}\n",
      "37. feature 46 {0.014333}\n",
      "38. feature 45 {0.014264}\n",
      "39. feature 56 {0.014257}\n",
      "40. feature 48 {0.014234}\n",
      "41. feature 23 {0.013742}\n",
      "42. feature 41 {0.013728}\n",
      "43. feature 49 {0.013324}\n",
      "44. feature 14 {0.013062}\n",
      "45. feature 34 {0.012970}\n",
      "46. feature 66 {0.012962}\n",
      "47. feature 62 {0.012916}\n",
      "48. feature 42 {0.012693}\n",
      "49. feature 26 {0.012582}\n",
      "50. feature 60 {0.011816}\n",
      "51. feature 25 {0.011503}\n",
      "52. feature 59 {0.011454}\n",
      "53. feature 28 {0.011276}\n",
      "54. feature 6 {0.010700}\n",
      "55. feature 67 {0.010568}\n",
      "56. feature 43 {0.010561}\n",
      "57. feature 40 {0.010375}\n",
      "58. feature 33 {0.010214}\n",
      "59. feature 24 {0.010055}\n",
      "60. feature 32 {0.009870}\n",
      "61. feature 37 {0.009649}\n",
      "62. feature 38 {0.009480}\n",
      "63. feature 13 {0.009408}\n",
      "64. feature 30 {0.009336}\n",
      "65. feature 16 {0.009190}\n",
      "66. feature 36 {0.008884}\n",
      "67. feature 31 {0.008773}\n",
      "68. feature 39 {0.008358}\n",
      "69. feature 9 {0.005694}\n",
      "70. feature 15 {0.000140}\n",
      "71. feature 4 {0.000133}\n",
      "72. feature 17 {0.000034}\n"
     ]
    },
    {
     "data": {
      "image/png": "[encoded data removed]",
      "text/plain": [
       "<matplotlib.figure.Figure at 0x7fed57322d90>"
      ]
     },
     "metadata": {},
     "output_type": "display_data"
    }
   ],
   "source": [
    "print(\"Feature Ranking:\")\n",
    "\n",
    "for f in range(trainFeatures.shape[1]):\n",
    "    print(\"%d. feature %d {%f}\" %(f+1, indices[f], importances[indices[f]]))\n",
    "\n",
    "plt.figure()\n",
    "plt.title(\"Feature importances\")\n",
    "plt.bar(range(trainFeatures.shape[1]), importances[indices], color=\"r\", yerr=std[indices/4], align='center')\n",
    "plt.xticks(range(trainFeatures.shape[1]), indices)\n",
    "plt.xlim([-1, trainFeatures.shape[1]])\n",
    "plt.show()"
   ]
  },
  {
   "cell_type": "markdown",
   "metadata": {},
   "source": [
    "# Select most important features"
   ]
  },
  {
   "cell_type": "code",
   "execution_count": 95,
   "metadata": {
    "collapsed": false
   },
   "outputs": [
    {
     "data": {
      "text/plain": [
       "SelectFromModel(estimator=RandomForestClassifier(bootstrap=True, class_weight=None, criterion='gini',\n",
       "            max_depth=7, max_features=19, max_leaf_nodes=None,\n",
       "            min_impurity_decrease=0.0, min_impurity_split=None,\n",
       "            min_samples_leaf=1, min_samples_split=2,\n",
       "            min_weight_fraction_leaf=0.0, n_estimators=301, n_jobs=-1,\n",
       "            oob_score=False, random_state=0, verbose=0, warm_start=False),\n",
       "        norm_order=1, prefit=False, threshold=0.01)"
      ]
     },
     "execution_count": 95,
     "metadata": {},
     "output_type": "execute_result"
    }
   ],
   "source": [
    "sfm = SelectFromModel(clf1, threshold=0.010)\n",
    "sfm.fit(trainFeatures, train['lbls'])"
   ]
  },
  {
   "cell_type": "code",
   "execution_count": 96,
   "metadata": {
    "collapsed": false
   },
   "outputs": [
    {
     "name": "stdout",
     "output_type": "stream",
     "text": [
      "[ 0  1  2  3  4  5  6  7  8  9 10 11 12 13 14 15 16 17 18 19 20 21 22 23 24\n",
      " 25 26 27 28 29]\n",
      "1. Feature 0 {0.016181}\n",
      "2. Feature 1 {0.015596}\n",
      "3. Feature 2 {0.014649}\n",
      "4. Feature 3 {0.016610}\n",
      "5. Feature 4 {0.000133}\n",
      "6. Feature 5 {0.018130}\n",
      "7. Feature 6 {0.010700}\n",
      "8. Feature 7 {0.020286}\n",
      "9. Feature 8 {0.014877}\n",
      "10. Feature 9 {0.005694}\n",
      "11. Feature 10 {0.015137}\n",
      "12. Feature 11 {0.016857}\n",
      "13. Feature 12 {0.015133}\n",
      "14. Feature 13 {0.009408}\n",
      "15. Feature 14 {0.013062}\n",
      "16. Feature 15 {0.000140}\n",
      "17. Feature 16 {0.009190}\n",
      "18. Feature 17 {0.000034}\n",
      "19. Feature 18 {0.018419}\n",
      "20. Feature 19 {0.015029}\n",
      "21. Feature 20 {0.016076}\n",
      "22. Feature 21 {0.018049}\n",
      "23. Feature 22 {0.017612}\n",
      "24. Feature 23 {0.013742}\n",
      "25. Feature 24 {0.010055}\n",
      "26. Feature 25 {0.011503}\n",
      "27. Feature 26 {0.012582}\n",
      "28. Feature 27 {0.017143}\n",
      "29. Feature 28 {0.011276}\n",
      "30. Feature 29 {0.015088}\n"
     ]
    },
    {
     "ename": "IndexError",
     "evalue": "index 30 is out of bounds for axis 0 with size 30",
     "output_type": "error",
     "traceback": [
      "\u001b[0;31m---------------------------------------------------------------------------\u001b[0m",
      "\u001b[0;31mIndexError\u001b[0m                                Traceback (most recent call last)",
      "\u001b[0;32m<ipython-input-96-efd6f9ce6387>\u001b[0m in \u001b[0;36m<module>\u001b[0;34m()\u001b[0m\n\u001b[1;32m      2\u001b[0m \u001b[0;32mprint\u001b[0m \u001b[0mindices\u001b[0m\u001b[0;34m\u001b[0m\u001b[0m\n\u001b[1;32m      3\u001b[0m \u001b[0;32mfor\u001b[0m \u001b[0mf\u001b[0m \u001b[0;32min\u001b[0m \u001b[0mrange\u001b[0m\u001b[0;34m(\u001b[0m\u001b[0mlen\u001b[0m\u001b[0;34m(\u001b[0m\u001b[0mimportant_indices\u001b[0m\u001b[0;34m)\u001b[0m\u001b[0;34m)\u001b[0m\u001b[0;34m:\u001b[0m\u001b[0;34m\u001b[0m\u001b[0m\n\u001b[0;32m----> 4\u001b[0;31m     \u001b[0;32mprint\u001b[0m \u001b[0;34m\"%d. Feature %d {%f}\"\u001b[0m \u001b[0;34m%\u001b[0m\u001b[0;34m(\u001b[0m\u001b[0mf\u001b[0m\u001b[0;34m+\u001b[0m\u001b[0;36m1\u001b[0m\u001b[0;34m,\u001b[0m\u001b[0mindices\u001b[0m\u001b[0;34m[\u001b[0m\u001b[0mf\u001b[0m\u001b[0;34m]\u001b[0m\u001b[0;34m,\u001b[0m \u001b[0mimportances\u001b[0m\u001b[0;34m[\u001b[0m\u001b[0mindices\u001b[0m\u001b[0;34m[\u001b[0m\u001b[0mf\u001b[0m\u001b[0;34m]\u001b[0m\u001b[0;34m]\u001b[0m\u001b[0;34m)\u001b[0m\u001b[0;34m\u001b[0m\u001b[0m\n\u001b[0m",
      "\u001b[0;31mIndexError\u001b[0m: index 30 is out of bounds for axis 0 with size 30"
     ]
    }
   ],
   "source": [
    "important_indices = np.argsort(sfm.get_support(indices=True))[::-1]\n",
    "print indices\n",
    "for f in range(len(important_indices)):\n",
    "    print \"%d. Feature %d {%f}\" %(f+1,indices[f], importances[indices[f]])"
   ]
  },
  {
   "cell_type": "code",
   "execution_count": 97,
   "metadata": {
    "collapsed": true
   },
   "outputs": [],
   "source": [
    "X_important_train = sfm.transform(trainFeatures)\n",
    "X_important_test = sfm.transform(valFeatures)"
   ]
  },
  {
   "cell_type": "code",
   "execution_count": 98,
   "metadata": {
    "collapsed": false
   },
   "outputs": [
    {
     "data": {
      "text/plain": [
       "RandomForestClassifier(bootstrap=True, class_weight=None, criterion='gini',\n",
       "            max_depth=7, max_features=19, max_leaf_nodes=None,\n",
       "            min_impurity_decrease=0.0, min_impurity_split=None,\n",
       "            min_samples_leaf=1, min_samples_split=2,\n",
       "            min_weight_fraction_leaf=0.0, n_estimators=301, n_jobs=-1,\n",
       "            oob_score=False, random_state=0, verbose=0, warm_start=False)"
      ]
     },
     "execution_count": 98,
     "metadata": {},
     "output_type": "execute_result"
    }
   ],
   "source": [
    "clf_important = RandomForestClassifier (n_estimators=301, max_depth=7, max_features=19, random_state=0, n_jobs=-1)\n",
    "clf_important.fit(X_important_train, train['lbls'])"
   ]
  },
  {
   "cell_type": "code",
   "execution_count": 99,
   "metadata": {
    "collapsed": false
   },
   "outputs": [
    {
     "name": "stdout",
     "output_type": "stream",
     "text": [
      "                   Predicted Copepods  Predicted Non-Copepods\n",
      "True Copepods                  2.5532                 97.4468\n",
      "True Non-Copepods              1.7595                 98.2405\n",
      "Accuracy: 59.2013888889, Error: 40.7986111111\n",
      "Normalized Accuracy: 50.39685, Normalized Error: 49.60315\n"
     ]
    }
   ],
   "source": [
    "preds = clf_important.predict(X_important_test)\n",
    "gtruth = np.array(val['lbls'])\n",
    "totalAccu = np.equal(preds,gtruth).mean()*100\n",
    "errorRate = (preds != gtruth).mean() * 100\n",
    "num_class = 2\n",
    "# Create array for confusion matrix with dimensions based on number of classes\n",
    "confusion_matrix_rawcount = np.zeros ((num_class, num_class))\n",
    "class_count = np.zeros((num_class,1)) # 1st col represents number of images per class\n",
    "\n",
    "# Create confusion matrix\n",
    "predClass = ['Predicted Copepods', 'Predicted Non-Copepods']\n",
    "trueClass = ['True Copepods', 'True Non-Copepods']\n",
    "for t, p in zip (gtruth, preds):\n",
    "    class_count[t,0] += 1\n",
    "    confusion_matrix_rawcount[t, p] += 1\n",
    "df_rawcount = pd.DataFrame(confusion_matrix_rawcount, columns=predClass, index=trueClass)\n",
    "confusion_matrix_rate = np.zeros((num_class,num_class))\n",
    "for i in range(num_class):\n",
    "    confusion_matrix_rate[i,:] = (confusion_matrix_rawcount[i,:])/class_count[i,0]*100\n",
    "confusion_matrix_rate = np.around(confusion_matrix_rate, decimals=4)\n",
    "df_rate = pd.DataFrame(confusion_matrix_rate, columns=predClass, index=trueClass)\n",
    "print df_rate\n",
    "\n",
    "# Normalized Accuracy\n",
    "normAccu = (confusion_matrix_rate[0,0]+confusion_matrix_rate[1,1])/2.00\n",
    "#print(\"Normalized Accuracy: {}\".format(normAccu))\n",
    "\n",
    "# Normalized Error Rate\n",
    "normError = 100.00 - normAccu\n",
    "\n",
    "print(\"Accuracy: {}, Error: {}\".format(totalAccu,errorRate))\n",
    "print(\"Normalized Accuracy: {}, Normalized Error: {}\".format(normAccu,normError))"
   ]
  },
  {
   "cell_type": "code",
   "execution_count": null,
   "metadata": {
    "collapsed": true
   },
   "outputs": [],
   "source": []
  }
 ],
 "metadata": {
  "kernelspec": {
   "display_name": "my-virtualenv-name",
   "language": "python",
   "name": "my-virtualenv-name"
  },
  "language_info": {
   "codemirror_mode": {
    "name": "ipython",
    "version": 2
   },
   "file_extension": ".py",
   "mimetype": "text/x-python",
   "name": "python",
   "nbconvert_exporter": "python",
   "pygments_lexer": "ipython2",
   "version": "2.7.6"
  }
 },
 "nbformat": 4,
 "nbformat_minor": 0
}
